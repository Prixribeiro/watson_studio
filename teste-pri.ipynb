{
    "cells": [
        {
            "cell_type": "code",
            "execution_count": 1,
            "metadata": {},
            "outputs": [
                {
                    "name": "stdout",
                    "output_type": "stream",
                    "text": "Hello World!\n"
                }
            ],
            "source": "print(\"Hello World!\")"
        },
        {
            "cell_type": "code",
            "execution_count": 2,
            "metadata": {},
            "outputs": [],
            "source": "# Importando todas as bibliotecas para esse tutorial\n\n# General syntax to import specific functions in a library: \n##from (library) import (specific library function)\nfrom pandas import DataFrame, read_csv\n\n# General syntax to import a library but no functions: \n##import (library) as (give the library a nickname/alias)\nimport matplotlib.pyplot as plt\nimport pandas as pd #this is how I usually import pandas\nimport sys #only needed to determine Python version number\nimport matplotlib #only needed to determine Matplotlib version number\n\n# Enable inline plotting\n%matplotlib inline"
        },
        {
            "cell_type": "code",
            "execution_count": 3,
            "metadata": {},
            "outputs": [
                {
                    "name": "stdout",
                    "output_type": "stream",
                    "text": "Python version 3.7.10 (default, Feb 26 2021, 18:47:35) \n[GCC 7.3.0]\nPandas version 1.0.5\nMatplotlib version 3.2.2\n"
                }
            ],
            "source": "print('Python version ' + sys.version)\nprint('Pandas version ' + pd.__version__)\nprint('Matplotlib version ' + matplotlib.__version__)"
        },
        {
            "cell_type": "code",
            "execution_count": 4,
            "metadata": {},
            "outputs": [],
            "source": "# Data set inicial\nnames = ['Bob','Jessica','Mary','John','Mel']\nbirths = [968, 155, 77, 578, 973]"
        },
        {
            "cell_type": "code",
            "execution_count": 5,
            "metadata": {},
            "outputs": [
                {
                    "data": {
                        "text/plain": "[('Bob', 968), ('Jessica', 155), ('Mary', 77), ('John', 578), ('Mel', 973)]"
                    },
                    "execution_count": 5,
                    "metadata": {},
                    "output_type": "execute_result"
                }
            ],
            "source": "#Utilizamos a funcao zip para juntar as duas listas\nBabyDataSet = list(zip(names,births))\nBabyDataSet"
        },
        {
            "cell_type": "code",
            "execution_count": 6,
            "metadata": {},
            "outputs": [
                {
                    "data": {
                        "text/html": "<div>\n<style scoped>\n    .dataframe tbody tr th:only-of-type {\n        vertical-align: middle;\n    }\n\n    .dataframe tbody tr th {\n        vertical-align: top;\n    }\n\n    .dataframe thead th {\n        text-align: right;\n    }\n</style>\n<table border=\"1\" class=\"dataframe\">\n  <thead>\n    <tr style=\"text-align: right;\">\n      <th></th>\n      <th>Names</th>\n      <th>Births</th>\n    </tr>\n  </thead>\n  <tbody>\n    <tr>\n      <th>0</th>\n      <td>Bob</td>\n      <td>968</td>\n    </tr>\n    <tr>\n      <th>1</th>\n      <td>Jessica</td>\n      <td>155</td>\n    </tr>\n    <tr>\n      <th>2</th>\n      <td>Mary</td>\n      <td>77</td>\n    </tr>\n    <tr>\n      <th>3</th>\n      <td>John</td>\n      <td>578</td>\n    </tr>\n    <tr>\n      <th>4</th>\n      <td>Mel</td>\n      <td>973</td>\n    </tr>\n  </tbody>\n</table>\n</div>",
                        "text/plain": "     Names  Births\n0      Bob     968\n1  Jessica     155\n2     Mary      77\n3     John     578\n4      Mel     973"
                    },
                    "execution_count": 6,
                    "metadata": {},
                    "output_type": "execute_result"
                }
            ],
            "source": "df = pd.DataFrame(data = BabyDataSet, columns=['Names', 'Births'])\ndf"
        },
        {
            "cell_type": "code",
            "execution_count": 7,
            "metadata": {},
            "outputs": [
                {
                    "data": {
                        "text/html": "<div>\n<style scoped>\n    .dataframe tbody tr th:only-of-type {\n        vertical-align: middle;\n    }\n\n    .dataframe tbody tr th {\n        vertical-align: top;\n    }\n\n    .dataframe thead th {\n        text-align: right;\n    }\n</style>\n<table border=\"1\" class=\"dataframe\">\n  <thead>\n    <tr style=\"text-align: right;\">\n      <th></th>\n      <th>Names</th>\n      <th>Births</th>\n    </tr>\n  </thead>\n  <tbody>\n    <tr>\n      <th>4</th>\n      <td>Mel</td>\n      <td>973</td>\n    </tr>\n  </tbody>\n</table>\n</div>",
                        "text/plain": "  Names  Births\n4   Mel     973"
                    },
                    "execution_count": 7,
                    "metadata": {},
                    "output_type": "execute_result"
                }
            ],
            "source": "\n# Colocamos na ordem e vemos o nome com maior valor\nSorted = df.sort_values(['Births'], ascending=False)\nSorted.head(1)"
        },
        {
            "cell_type": "code",
            "execution_count": 8,
            "metadata": {},
            "outputs": [
                {
                    "data": {
                        "text/plain": "973"
                    },
                    "execution_count": 8,
                    "metadata": {},
                    "output_type": "execute_result"
                }
            ],
            "source": "# Coletamos o maior valor de nascimentos\ndf['Births'].max()"
        },
        {
            "cell_type": "code",
            "execution_count": 9,
            "metadata": {},
            "outputs": [
                {
                    "name": "stdout",
                    "output_type": "stream",
                    "text": "O nome mais popular e:\n"
                },
                {
                    "data": {
                        "text/html": "<div>\n<style scoped>\n    .dataframe tbody tr th:only-of-type {\n        vertical-align: middle;\n    }\n\n    .dataframe tbody tr th {\n        vertical-align: top;\n    }\n\n    .dataframe thead th {\n        text-align: right;\n    }\n</style>\n<table border=\"1\" class=\"dataframe\">\n  <thead>\n    <tr style=\"text-align: right;\">\n      <th></th>\n      <th>Names</th>\n      <th>Births</th>\n    </tr>\n  </thead>\n  <tbody>\n    <tr>\n      <th>4</th>\n      <td>Mel</td>\n      <td>973</td>\n    </tr>\n  </tbody>\n</table>\n</div>",
                        "text/plain": "  Names  Births\n4   Mel     973"
                    },
                    "execution_count": 9,
                    "metadata": {},
                    "output_type": "execute_result"
                },
                {
                    "data": {
                        "image/png": "[encoded data removed]",
                        "text/plain": "<Figure size 432x288 with 1 Axes>"
                    },
                    "metadata": {
                        "needs_background": "light"
                    },
                    "output_type": "display_data"
                }
            ],
            "source": "# Criar o grafico\ndf['Births'].plot()\n\n# Maior valor no data set\nMaxValue = df['Births'].max()\n\n#Nome associado com o maior valor\nMaxName = df['Names'][df['Births'] == df['Births'].max()].values\n\n# Texto para aparecer no grafico\nText = str(MaxValue) + \" - \" + MaxName\n\n# Adicionar texto no grafico\nplt.annotate(Text, xy=(1, MaxValue), xytext=(8, 0), \n                 xycoords=('axes fraction', 'data'), textcoords='offset points')\n\nprint(\"O nome mais popular e:\")\ndf[df['Births'] == df['Births'].max()]"
        },
        {
            "cell_type": "code",
            "execution_count": 10,
            "metadata": {},
            "outputs": [],
            "source": "# Tutorial adaptado do link: http://nbviewer.jupyter.org/urls/bitbucket.org/hrojas/learn-pandas/raw/master/lessons/01%20-%20Lesson.ipynb"
        },
        {
            "cell_type": "code",
            "execution_count": null,
            "metadata": {},
            "outputs": [],
            "source": ""
        }
    ],
    "metadata": {
        "kernelspec": {
            "display_name": "Python 3.7",
            "language": "python",
            "name": "python3"
        },
        "language_info": {
            "codemirror_mode": {
                "name": "ipython",
                "version": 3
            },
            "file_extension": ".py",
            "mimetype": "text/x-python",
            "name": "python",
            "nbconvert_exporter": "python",
            "pygments_lexer": "ipython3",
            "version": "3.7.10"
        }
    },
    "nbformat": 4,
    "nbformat_minor": 1
}